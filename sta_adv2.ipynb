{
 "cells": [
  {
   "cell_type": "markdown",
   "id": "655505c0-6b6d-4185-9165-79f6ad2c0642",
   "metadata": {},
   "source": [
    "Q1: What is the difference between a t-test and a z-test? Provide an example scenario where you would \n",
    "use each type of test.\n",
    "Ans:-T-test vs. Z-test:\n",
    "\r\n",
    "Both t-tests and z-tests are statistical methods used to make inferences about population parameters based on sample data. The main difference between the two lies in the situations in which they are applicabl.\r\n",
    "\r\n",
    "Z-tst:\r\n",
    "\r\n",
    "The z-test is used when the population standard deviation is known.\r\n",
    "It is typically employed with large sample sizes (usually n > 30).\r\n",
    "The z-test is based on the standard normal distribution (Z-distribution).\n",
    "T-test:\r\n",
    "\r\n",
    "The t-test is used when the population standard deviation is unknown.\r\n",
    "It is more suitable for small sample sizes.\r\n",
    "The t-test is based on the t-distribution, which has fatter tails compared to the normal \n",
    "Example Scenarios:\n",
    "\r\n",
    "Z-test Example:\r\n",
    "Suppose you want to test if the average height of a population of adults is significantly different from a known standard deviation of heights. You collect a sample of 50 adults and measure their heights. Since you know the population standard deviation, you can use a z-test.distribution."
   ]
  },
  {
   "cell_type": "markdown",
   "id": "703a20e8-ff28-43f7-9bd7-5d900acbb479",
   "metadata": {},
   "source": [
    "Q2: Differentiate between one-tailed and two-tailed tests.\n",
    "Ans:-The distinction between one-tailed and two-tailed tests relates to the directionality of the hypothesis being tested in a statistical analysis.\r\n",
    "\r\n",
    "One-Tailed Tes:\r\n",
    "\r\n",
    "A one-tailed test examines the possibility of a relationship in one specific direction.\r\n",
    "It is used when you are interested in whether the sample statistic is significantly greater than or less than a certain value.\r\n",
    "It provides more power to detect an effect in a specific direction but might miss effects in the opposite direction.\r\n",
    "There are two types of one-tailed tests: \"greater than\" and \"less than.\"\r\n",
    "Example:\r\n",
    "You are testing whether a new drug increases the average response time. Your hypotheses ould be:\r\n",
    "\r\n",
    "Null Hypothesis (H0): The drug has no effect or decreases response time (μ ≤ μ₀).\r\n",
    "Alternative Hypothesis (H1): The drug increases response time (μ > μ₀).\r\n",
    "TwoTailed Test:\r\n",
    "\r\n",
    "A two-tailed test examines the possibility of a relationship in two directions, either greater than or less than a certain value.\r\n",
    "It is used when you are interested in whether the sample statistic is significantly different from a certain value, regardless of the direction.\r\n",
    "It is generally more conservative than a one-tailed test but is appropriate when you want to detect any significant difference, regardless of direction.\r\n",
    "Example:\r\n",
    "You are testing whether a new teaching method has any effect on test scores. Your hpotheses would be:\r\n",
    "\r\n",
    "Null Hypothesis (H0): The teaching method has no effect on test scores (μ = μ₀).\r\n",
    "Alternative Hypothesis (H1): The teaching method has an effect on test scores (μ ≠ μ₀)."
   ]
  },
  {
   "cell_type": "markdown",
   "id": "a8d60748-4473-4d0b-8d3e-332d5f363b03",
   "metadata": {},
   "source": [
    "Q3: Explain the concept of Type 1 and Type 2 errors in hypothesis testing. Provide an example scenario for \n",
    "each type of error.\n",
    "Ans:-Type I Error and Type II Error in Hypothesis Testing:\n",
    "\r\n",
    "In hypothesis testing, researchers must make decisions about the null hypothesis (H0) based on sample data. These decisions can lead to two types of errors: Type I error and Type II erro.\r\n",
    "\r\n",
    "Type I Error (False Positie):\r\n",
    "\r\n",
    "Definition: Rejecting the null hypothesis when it is actually true.\r\n",
    "Symbol: denoted by α (alpha).\r\n",
    "Probability: The level of significance (α) represents the probability of making a Type I error.\r\n",
    "Example Scenario:\r\n",
    "Suppose you are conducting a medical test to determine if a person has a certain disease. The null hypothesis (H0) is that the person is healthy. A Type I error occurs if the test falsely indicates that the person has the disease (rejects H0), leading to unnecessary treatment or worry.\r\n",
    "Type II Error (FalseNegative):\r\n",
    "\r\n",
    "Definition: Failing to reject the null hypothesis when it is actually false.\r\n",
    "Symbol: denoted by β (beta).\r\n",
    "Probability: The power of a test (1 - β) represents the probability of correctly rejecting a false null hypothesis.\r\n",
    "Example Scenario:\r\n",
    "Continuing with the medical test example, a Type II error occurs if the test fails to detect the disease when the person actually has it. This may lead to a false sense of security, delaying necessary treatment."
   ]
  },
  {
   "cell_type": "markdown",
   "id": "b79bb946-a3ce-4eaa-9c97-e6d3853e7f16",
   "metadata": {},
   "source": [
    "Q4:  Explain Bayes's theorem with an example.\n",
    "Ans:-Bayes' Theorem:\n",
    "\r\n",
    "Bayes' Theorem is a fundamental concept in probability theory that provides a way to update probabilities based on new evidence. It's particularly useful in situations where we have prior knowledge or beliefs that we want to update in light of new data."
   ]
  },
  {
   "cell_type": "code",
   "execution_count": null,
   "id": "7258acf0-a1e5-4cfd-a7fe-ce0fb4cb786b",
   "metadata": {},
   "outputs": [],
   "source": [
    "# Given probabilities\n",
    "p_A = 0.01  # Prevalence of the disease\n",
    "p_B_given_A = 0.95  # Sensitivity of the test\n",
    "p_B_given_not_A = 0.05  # False positive rate\n",
    "\n",
    "# Bayes' Theorem\n",
    "p_A_given_B = (p_B_given_A * p_A) / ((p_B_given_A * p_A) + (p_B_given_not_A * (1 - p_A)))\n",
    "\n",
    "print(f'Probability of having the disease given a positive test result: {p_A_given_B:.4f}')\n"
   ]
  },
  {
   "cell_type": "markdown",
   "id": "09f6f68f-b9db-4f4e-aca4-796b97a4e4b7",
   "metadata": {},
   "source": [
    "Q5: What is a confidence interval? How to calculate the confidence interval, explain with an example.\n",
    "Ans:-Confidence Interval:\r",
    "\r\n",
    "A confidence interval is a range of values used to estimate the true parameter of a population based on a sample from that population. It provides a range of plausible values for the parameter along with a level of confidence. The level of confidence represents the probability that the interval contains the true paramete.\r\n",
    "\r\n",
    "For example, a 95% confidence interval implies that if we were to sample from the population many times and calculate a confidence interval each time, approximately 95% of those intervals would contain the true population parameter."
   ]
  },
  {
   "cell_type": "code",
   "execution_count": null,
   "id": "1c4f2e0b-6d8c-4111-8876-93f09e809bda",
   "metadata": {},
   "outputs": [],
   "source": [
    "import numpy as np\n",
    "import scipy.stats as stats\n",
    "\n",
    "# Example data (heights in inches)\n",
    "sample_data = [68, 70, 72, 66, 69, 71, 73, 67, 68, 70]\n",
    "\n",
    "# Calculate sample mean and standard deviation\n",
    "sample_mean = np.mean(sample_data)\n",
    "sample_std_dev = np.std(sample_data, ddof=1)  # Use ddof=1 for sample standard deviation\n",
    "\n",
    "# Set the desired confidence level\n",
    "confidence_level = 0.95\n",
    "\n",
    "# Calculate Z-score for the confidence level\n",
    "z_score = stats.norm.ppf((1 + confidence_level) / 2)\n",
    "\n",
    "# Calculate the margin of error\n",
    "margin_of_error = z_score * (sample_std_dev / np.sqrt(len(sample_data)))\n",
    "\n",
    "# Calculate the confidence interval\n",
    "confidence_interval = (sample_mean - margin_of_error, sample_mean + margin_of_error)\n",
    "\n",
    "print(f'Sample Mean: {sample_mean:.2f}')\n",
    "print(f'Z-Score: {z_score:.2f}')\n",
    "print(f'Margin of Error: {margin_of_error:.2f}')\n",
    "print(f'95% Confidence Interval: ({confidence_interval[0]:.2f}, {confidence_interval[1]:.2f})')\n"
   ]
  },
  {
   "cell_type": "markdown",
   "id": "83b55898-26f0-4ea4-98aa-321d37558bd6",
   "metadata": {},
   "source": [
    "Q6. Use Bayes' Theorem to calculate the probability of an event occurring given prior knowledge of the \n",
    "event's probability and new evidence. Provide a sample problem and solution.\n",
    "Ans:-Certainly! Let's consider a classic example known as the \"Monty Hall problem,\" a probability puzzle based on a game show. The scenario is as follows:\r",
    "\r\n",
    "A contestant is presented with three doors. Behind one door is a car, and behind the other two doors are goats.\r\n",
    "The contestant picks a door (let's call it Door A).\r\n",
    "The host (Monty Hall) opens one of the remaining two doors, revealing a goat.\r\n",
    "The contestant is then given the option to stick with their initial choice (Door A) or switch to the other unopened door."
   ]
  },
  {
   "cell_type": "code",
   "execution_count": null,
   "id": "9c08583b-19fc-40c7-9fcc-1fa8c6d66947",
   "metadata": {},
   "outputs": [],
   "source": [
    "# Prior probabilities\n",
    "p_car = 1/3  # Probability that the car is behind the chosen door initially\n",
    "p_goat = 2/3  # Probability that a goat is behind one of the other doors initially\n",
    "\n",
    "# Scenario: The contestant initially chooses Door A\n",
    "chosen_door = 'A'\n",
    "\n",
    "# Monty Hall opens one of the other doors, revealing a goat\n",
    "# If the car is behind Door A, Monty can open either Door B or C (randomly)\n",
    "# If the car is behind Door B or C, Monty will open the other door with a goat\n",
    "monty_opens_door = 'B'  # For simplicity, let's assume Monty opens Door B\n",
    "\n",
    "# Evidence: Monty opened Door B and revealed a goat\n",
    "# Updated probabilities based on Bayes' Theorem\n",
    "# P(A|B) = P(B|A) * P(A) / P(B), where A is winning the car and B is Monty opening Door B\n",
    "p_car_given_monty_opens_B = (p_car * 1) / ((p_car * 1) + (p_goat * 1/2))\n",
    "\n",
    "print(f'Prior Probability of winning the car: {p_car:.4f}')\n",
    "print(f'Updated Probability after Monty opens Door B: {p_car_given_monty_opens_B:.4f}')\n"
   ]
  },
  {
   "cell_type": "markdown",
   "id": "a0ce3566-0f2c-433d-95d3-598b98901b32",
   "metadata": {},
   "source": [
    "Q7. Calculate the 95% confidence interval for a sample of data with a mean of 50 and a standard deviation \n",
    "of 5. Interpret the results."
   ]
  },
  {
   "cell_type": "code",
   "execution_count": null,
   "id": "06039d83-6b9f-49f9-8db2-e1abb0050864",
   "metadata": {},
   "outputs": [],
   "source": [
    "import scipy.stats as stats\n",
    "\n",
    "# Given data\n",
    "sample_mean = 50\n",
    "sample_std_dev = 5\n",
    "confidence_level = 0.95\n",
    "sample_size = 30  # You should replace this with the actual sample size\n",
    "\n",
    "# Calculate Z-score for the confidence level\n",
    "z_score = stats.norm.ppf((1 + confidence_level) / 2)\n",
    "\n",
    "# Calculate the margin of error\n",
    "margin_of_error = z_score * (sample_std_dev / (sample_size ** 0.5))\n",
    "\n",
    "# Calculate the confidence interval\n",
    "confidence_interval = (sample_mean - margin_of_error, sample_mean + margin_of_error)\n",
    "\n",
    "print(f'Sample Mean: {sample_mean}')\n",
    "print(f'Z-Score: {z_score:.2f}')\n",
    "print(f'Margin of Error: {margin_of_error:.2f}')\n",
    "print(f'95% Confidence Interval: ({confidence_interval[0]:.2f}, {confidence_interval[1]:.2f})')\n"
   ]
  },
  {
   "cell_type": "markdown",
   "id": "46644c82-cb93-42ba-b500-551fa1926113",
   "metadata": {},
   "source": [
    "Q8. What is the margin of error in a confidence interval? How does sample size affect the margin of error? \n",
    "Provide an example of a scenario where a larger sample size would result in a smaller margin of error.\n",
    "Ans:-Margin of Error:\n",
    "\r\n",
    "The margin of error (MOE) is a measure of the precision or uncertainty associated with a sample estimate in a confidence interval. It represents the range above and below the sample estimate within which the true population parameter is likely to fall with a certain level of confidence. The formula for the margin of error in a confidence interval for a population mean is:"
   ]
  },
  {
   "cell_type": "code",
   "execution_count": null,
   "id": "5ff5baff-02c6-48f4-9f0e-0c3bfb35ddc7",
   "metadata": {},
   "outputs": [],
   "source": [
    "import scipy.stats as stats\n",
    "\n",
    "# Given data\n",
    "sample_mean = 50\n",
    "sample_std_dev = 5\n",
    "confidence_level = 0.95\n",
    "\n",
    "# Sample sizes to compare\n",
    "sample_size_1 = 30\n",
    "sample_size_2 = 100\n",
    "\n",
    "# Calculate Z-score for the confidence level\n",
    "z_score = stats.norm.ppf((1 + confidence_level) / 2)\n",
    "\n",
    "# Calculate the margin of error for both sample sizes\n",
    "margin_of_error_1 = z_score * (sample_std_dev / (sample_size_1 ** 0.5))\n",
    "margin_of_error_2 = z_score * (sample_std_dev / (sample_size_2 ** 0.5))\n",
    "\n",
    "print(f'Margin of Error for Sample Size {sample_size_1}: {margin_of_error_1:.2f}')\n",
    "print(f'Margin of Error for Sample Size {sample_size_2}: {margin_of_error_2:.2f}')\n"
   ]
  },
  {
   "cell_type": "markdown",
   "id": "736e6527-82cb-44b4-aeb0-295c969712f6",
   "metadata": {},
   "source": [
    "Q9. Calculate the z-score for a data point with a value of 75, a population mean of 70, and a population \n",
    "standard deviation of 5. Interpret the results."
   ]
  },
  {
   "cell_type": "code",
   "execution_count": null,
   "id": "8272dfc8-7748-42ba-82cd-849c2aacf640",
   "metadata": {},
   "outputs": [],
   "source": [
    "# Given data\n",
    "data_point = 75\n",
    "population_mean = 70\n",
    "population_std_dev = 5\n",
    "\n",
    "# Calculate Z-score\n",
    "z_score = (data_point - population_mean) / population_std_dev\n",
    "\n",
    "print(f'Z-Score: {z_score:.2f}')\n"
   ]
  },
  {
   "cell_type": "markdown",
   "id": "8173977e-7545-4c44-bf02-a72a04f8896d",
   "metadata": {},
   "source": [
    "Q10. In a study of the effectiveness of a new weight loss drug, a sample of 50 participants lost an average \n",
    "of 6 pounds with a standard deviation of 2.5 pounds. Conduct a hypothesis test to determine if the drug is \n",
    "significantly effective at a 95% confidence level using a t-test"
   ]
  },
  {
   "cell_type": "code",
   "execution_count": null,
   "id": "e2f577c3-3a44-4376-8e5f-672b8c2ea9d7",
   "metadata": {},
   "outputs": [],
   "source": [
    "import scipy.stats as stats\n",
    "\n",
    "# Given data\n",
    "sample_mean = 6\n",
    "sample_std_dev = 2.5\n",
    "sample_size = 50\n",
    "confidence_level = 0.95\n",
    "hypothesized_mean = 0  # Assuming the drug has no effect\n",
    "\n",
    "# Calculate the t-statistic\n",
    "t_statistic = (sample_mean - hypothesized_mean) / (sample_std_dev / (sample_size ** 0.5))\n",
    "\n",
    "# Calculate the degrees of freedom\n",
    "degrees_of_freedom = sample_size - 1\n",
    "\n",
    "# Calculate the critical t-value for a two-tailed test\n",
    "critical_t_value = stats.t.ppf((1 + confidence_level) / 2, df=degrees_of_freedom)\n",
    "\n",
    "# Compare the t-statistic to the critical t-value and determine statistical significance\n",
    "p_value = 2 * (1 - stats.t.cdf(abs(t_statistic), df=degrees_of_freedom))\n",
    "\n",
    "print(f'T-statistic: {t_statistic:.2f}')\n",
    "print(f'Degrees of Freedom: {degrees_of_freedom}')\n",
    "print(f'Critical t-value: {critical_t_value:.2f}')\n",
    "print(f'P-value: {p_value:.4f}')\n",
    "\n",
    "# Check if the null hypothesis is rejected based on the p-value\n",
    "if p_value < 0.05:\n",
    "    print(\"Reject the null hypothesis. The drug is significantly effective.\")\n",
    "else:\n",
    "    print(\"Fail to reject the null hypothesis. There is not enough evidence to conclude that the drug is effective.\")\n"
   ]
  },
  {
   "cell_type": "markdown",
   "id": "0b4d8c43-f6dd-4592-9909-6f0df2950109",
   "metadata": {},
   "source": [
    "Q11. In a survey of 500 people, 65% reported being satisfied with their current job. Calculate the 95% \n",
    "confidence interval for the true proportion of people who are satisfied with their job."
   ]
  },
  {
   "cell_type": "code",
   "execution_count": null,
   "id": "67ebc5d8-d16d-4f6a-835d-80bd9170f011",
   "metadata": {},
   "outputs": [],
   "source": [
    "import math\n",
    "\n",
    "# Given data\n",
    "sample_proportion = 0.65  # 65% as a decimal\n",
    "confidence_level = 0.95\n",
    "sample_size = 500\n",
    "\n",
    "# Calculate Z-score for the confidence level\n",
    "z_score = stats.norm.ppf((1 + confidence_level) / 2)\n",
    "\n",
    "# Calculate the margin of error\n",
    "margin_of_error = z_score * math.sqrt((sample_proportion * (1 - sample_proportion)) / sample_size)\n",
    "\n",
    "# Calculate the confidence interval\n",
    "confidence_interval = (sample_proportion - margin_of_error, sample_proportion + margin_of_error)\n",
    "\n",
    "print(f'Sample Proportion: {sample_proportion:.4f}')\n",
    "print(f'Z-Score: {z_score:.2f}')\n",
    "print(f'Margin of Error: {margin_of_error:.4f}')\n",
    "print(f'95% Confidence Interval: ({confidence_interval[0]:.4f}, {confidence_interval[1]:.4f})')\n"
   ]
  },
  {
   "cell_type": "markdown",
   "id": "98bd26c8-055e-4778-ac07-e9f030c9f3ee",
   "metadata": {},
   "source": [
    "Q12. A researcher is testing the effectiveness of two different teaching methods on student performance. \n",
    "Sample A has a mean score of 85 with a standard deviation of 6, while sample B has a mean score of 82 \n",
    "with a standard deviation of 5. Conduct a hypothesis test to determine if the two teaching methods have a \n",
    "significant difference in student performance using a t-test with a significance level of 0.01."
   ]
  },
  {
   "cell_type": "code",
   "execution_count": null,
   "id": "1e206f58-46a0-4a4f-99df-54db90a24205",
   "metadata": {},
   "outputs": [],
   "source": [
    "import scipy.stats as stats\n",
    "\n",
    "# Given data for Sample A\n",
    "mean_a = 85\n",
    "std_dev_a = 6\n",
    "sample_size_a = 30  # You should replace this with the actual sample size for Sample A\n",
    "\n",
    "# Given data for Sample B\n",
    "mean_b = 82\n",
    "std_dev_b = 5\n",
    "sample_size_b = 30  # You should replace this with the actual sample size for Sample B\n",
    "\n",
    "# Significance level\n",
    "alpha = 0.01\n",
    "\n",
    "# Calculate the t-statistic\n",
    "t_statistic = (mean_a - mean_b) / math.sqrt((std_dev_a**2 / sample_size_a) + (std_dev_b**2 / sample_size_b))\n",
    "\n",
    "# Calculate the degrees of freedom\n",
    "degrees_of_freedom = sample_size_a + sample_size_b - 2\n",
    "\n",
    "# Calculate the critical t-value for a two-tailed test\n",
    "critical_t_value = stats.t.ppf(1 - alpha / 2, df=degrees_of_freedom)\n",
    "\n",
    "# Calculate the p-value for a two-tailed test\n",
    "p_value = 2 * (1 - stats.t.cdf(abs(t_statistic), d\n"
   ]
  },
  {
   "cell_type": "code",
   "execution_count": null,
   "id": "2d6da284-7cdd-423b-a208-71c2ca113fd2",
   "metadata": {},
   "outputs": [],
   "source": [
    "Q13. A population has a mean of 60 and a standard deviation of 8. A sample of 50 observations has a mean \n",
    "of 65. Calculate the 90% confidence interval for the true population mean."
   ]
  }
 ],
 "metadata": {
  "kernelspec": {
   "display_name": "Python 3 (ipykernel)",
   "language": "python",
   "name": "python3"
  },
  "language_info": {
   "codemirror_mode": {
    "name": "ipython",
    "version": 3
   },
   "file_extension": ".py",
   "mimetype": "text/x-python",
   "name": "python",
   "nbconvert_exporter": "python",
   "pygments_lexer": "ipython3",
   "version": "3.12.0"
  }
 },
 "nbformat": 4,
 "nbformat_minor": 5
}
